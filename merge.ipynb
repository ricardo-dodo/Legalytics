{
 "cells": [
  {
   "cell_type": "code",
   "execution_count": 2,
   "metadata": {},
   "outputs": [],
   "source": [
    "import json"
   ]
  },
  {
   "cell_type": "code",
   "execution_count": 3,
   "metadata": {},
   "outputs": [],
   "source": [
    "# Read the JSON data\n",
    "with open('data.json', 'r') as file:\n",
    "    json_data = json.load(file)\n",
    "\n",
    "# Initialize an empty list to store merged data\n",
    "merged_data = []\n",
    "\n",
    "# Iterate over each object in the JSON data\n",
    "for obj in json_data:\n",
    "    # Check if the object contains a \"data\" array\n",
    "    if 'data' in obj:\n",
    "        # Extract the \"content\" items from the \"data\" array and add them directly to the merged_data list\n",
    "        for item in obj['data']:\n",
    "            merged_data.append(item)\n",
    "\n",
    "# Write merged data to a new file\n",
    "with open('merged_data.json', 'w') as outfile:\n",
    "    json.dump(merged_data, outfile)\n"
   ]
  },
  {
   "cell_type": "code",
   "execution_count": 5,
   "metadata": {},
   "outputs": [],
   "source": [
    "with open('merged_data.json', 'r') as file:\n",
    "    json_data = json.load(file)\n",
    "\n",
    "for item in json_data:\n",
    "    if \"main_vector\" in item:\n",
    "        del item[\"main_vector\"]\n",
    "        \n",
    "with open('modified_data.json', 'w') as file:\n",
    "    json.dump(json_data, file, indent=4)"
   ]
  }
 ],
 "metadata": {
  "kernelspec": {
   "display_name": "Python 3",
   "language": "python",
   "name": "python3"
  },
  "language_info": {
   "codemirror_mode": {
    "name": "ipython",
    "version": 3
   },
   "file_extension": ".py",
   "mimetype": "text/x-python",
   "name": "python",
   "nbconvert_exporter": "python",
   "pygments_lexer": "ipython3",
   "version": "3.12.2"
  }
 },
 "nbformat": 4,
 "nbformat_minor": 2
}
